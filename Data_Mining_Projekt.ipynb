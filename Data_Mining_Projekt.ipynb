{
 "cells": [
  {
   "cell_type": "markdown",
   "id": "falling-oxford",
   "metadata": {},
   "source": [
    "Readme goes here\n",
    "\n",
    "```bash\n",
    "# what have been channged?\n",
    "git status\n",
    "# add changed files\n",
    "git add *\n",
    "# commit\n",
    "git commit -m \"commit log goes here!\"\n",
    "# push\n",
    "git push\n",
    "```"
   ]
  },
  {
   "cell_type": "code",
   "execution_count": 12,
   "id": "solved-slovakia",
   "metadata": {},
   "outputs": [
    {
     "name": "stdout",
     "output_type": "stream",
     "text": [
      "['test_set.csv', 'train_set.csv']\n"
     ]
    }
   ],
   "source": [
    "from os import listdir\n",
    "from os.path import isfile, join\n",
    "import os\n",
    "\n",
    "print(listdir(\"./datasets/Data_Mining_Datasets\"))"
   ]
  },
  {
   "cell_type": "code",
   "execution_count": null,
   "id": "touched-denial",
   "metadata": {},
   "outputs": [],
   "source": []
  }
 ],
 "metadata": {
  "kernelspec": {
   "display_name": "Python 3",
   "language": "python",
   "name": "python3"
  },
  "language_info": {
   "codemirror_mode": {
    "name": "ipython",
    "version": 3
   },
   "file_extension": ".py",
   "mimetype": "text/x-python",
   "name": "python",
   "nbconvert_exporter": "python",
   "pygments_lexer": "ipython3",
   "version": "3.7.10"
  }
 },
 "nbformat": 4,
 "nbformat_minor": 5
}
