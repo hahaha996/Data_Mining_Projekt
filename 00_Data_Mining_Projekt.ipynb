{
 "cells": [
  {
   "cell_type": "markdown",
   "id": "falling-oxford",
   "metadata": {},
   "source": [
    "Readme goes here\n",
    "\n",
    "```bash\n",
    "# what have been channged?\n",
    "git status\n",
    "# add changed files\n",
    "git add *\n",
    "# commit\n",
    "git commit -m \"commit log goes here!\"\n",
    "# push\n",
    "git push\n",
    "```\n",
    "\n",
    "```\n",
    "# install seaborn\n",
    "pip install seaborn\n",
    "´´´\n"
   ]
  },
  {
   "cell_type": "markdown",
   "id": "experienced-ranch",
   "metadata": {},
   "source": [
    "# Projekt \"Kaufen oder Warten\"\n",
    "\n",
    "Die Situation kennen alle, die ab und zu Flugtickets kaufen: Sollte man besser warten, weil der Preis vielleicht noch fällt, oder sollte man kaufen? Insbesondere bei der Fluggesellschaft, um die es in diesem Projekt geht, sind scheinbar erratische Preisveränderungen bekannt. Die übliche Regel \"je früher, desto besser\" ist hier oft nicht die beste Empfehlung.\n",
    "\n",
    "## Datenbeschreibung\n",
    "\n",
    "Der Datensatz `train_set.csv` enthält Preisanfragen zu bestimmten Zeitpunkten für Flüge. Es werden nur zwei verschiedene Strecken in beiden Richtungen betrachtet: zwischen London Stansted und Berlin Schönefeld sowie zwischen London Stansted und Frankfurt.\n",
    "\n",
    "Die folgenden Merkmale sind enthalten:\n",
    "\n",
    "- Request_Date: Datum und Uhrzeit der Preisanfrage\n",
    "- Flight_Date: Datum des Flugs\n",
    "- Departure_hour: Gerundete Abflugszeit\n",
    "- flight_unique_id: Eindeutige ID für den Flug\n",
    "- route_abb: Abkürzung der Flugroute\n",
    "- Price_In_Eur: Flugpreis\n",
    "- min_future_price_in_Eur: Minimaler Flugpreis für die flight_unique_id über alle zukünftigen Request_Dates\n",
    "- buy: 1 = kaufen, 0 = warten (vorherzusagende Klasse)\n",
    "\n",
    "Die buy-Klasse wird wie folgt berechnet: if Price_In_Eur - min_future_price_in_Eur <= 0 then 1 else 0\n",
    "\n",
    "## Aufgabe\n",
    "\n",
    "Sie sollen ein Modell für eine Kaufempfehlung aus den Daten lernen. Interpretieren Sie ein Zeile in dem Datensatz als eine Preisabfrage, die Sie als Kunde durchführen. Das zu lernende Modell soll Ihnen dann empfehlen, zu dem Preis zu kaufen oder besser zu warten. \n",
    "\n",
    "Für den ersten Teil der Arbeit überlegen Sie sich, wie Sie solch ein Modell in der Praxis gestalten und anwenden würden. Versetzen Sie sich dazu in die Lage eines Kunden und/oder in die Lage eines Unternehmens. Was könnte bei letzterem das Geschäftsmodell sein?\n",
    "\n",
    "Welchen Einfluss haben diese Überlegungen auf das Konzept des zu lernenden Modells? \n",
    "\n",
    "Halten Sie sich beim Vorgehen bitte an die allgemeinen Schritte, die ich oben für alle Projekte beschrieben habe. \n",
    "\n",
    "## Modellgüte\n",
    "\n",
    "Benutzen Sie zunächst einfache Vorhersagegenauigkeit zur Beurteilung der Modellgüte (Accuracy). Messen Sie also die Anzahl der richtigen Entscheidungen (Kaufen oder Warten) durch die Anzahl aller Entscheidungen. \n",
    "\n",
    "Überlegen Sie dann, wie man aus Sicht eines Kunden bzw. Ihres Geschäftsmodells die Güte der Kaufempfehlungen messen sollte. Hier spielen sicher monetäre Überlegungen und Kundenzufriedenheit eine größere Rolle als nur möglichst genaue Empfehlungen. Denken Sie hierbei auch daran, dass man sich als Kunde nicht dem Stress aussetzen möchte, ständig Preise abzufragen. \n",
    "\n",
    "Sie werden Ihre Ideen bei der Zwischenpräsentation vorstellen und diskutieren. Sie haben dann die Gelegenheit, für den zweiten Teil der Arbeit (Bauen der Modelle) Ihre Überlegungen basierend auf den Diskussionen anzupassen und auch Ideen von anderen Gruppen aufzunehmen.   \n",
    "\n",
    "## Wettbewerb\n",
    "\n",
    "Es gibt einen Testdatensatz (s.u.), der dasselbe Datenformat wie der Trainingsdatensatz aufweist - nur die Spalten min_future_price_in_Eur und buy fehlen, da diese in der Anwendungssituation nicht bekannt wären. Für die Abgabe der Arbeit sollen Sie Ihre Modelle auf den Testdatensatz anwenden und das Ergebnis mit abgeben (Beschreibung siehe beim Abgabetermin weiter oben in Moodle).  Wir werden die besten Modelle als Sieger küren, wenn alle Gruppen abgegeben haben.  \n",
    "\n",
    "Dazu werden wir zwei verschiedene Gütemaße betrachten: die einfache Genauigkeit (Accuracy) und das monetäre Gütemaß, auf das wir uns noch einigen werden.\n",
    "\n"
   ]
  },
  {
   "cell_type": "code",
   "execution_count": 1,
   "id": "recorded-withdrawal",
   "metadata": {},
   "outputs": [],
   "source": [
    "import pandas as pd\n",
    "import numpy as np\n",
    "import seaborn as sns\n",
    "import matplotlib.pyplot as plt\n"
   ]
  },
  {
   "cell_type": "code",
   "execution_count": null,
   "id": "related-debate",
   "metadata": {},
   "outputs": [],
   "source": [
    "# Daten einlesen\n",
    "#data_training = pd.read_csv('./datasets/Data_Mining_Datasets/train_set.csv', index_col=0)\n",
    "data_training = pd.read_csv('https://raw.githubusercontent.com/hahaha996/Data_Mining_Projekt/main/datasets/Data_Mining_Datasets/train_set.csv', index_col=0)\n",
    "data_testing = pd.read_csv('./datasets/Data_Mining_Datasets/test_set.csv', index_col=0)\n",
    "\n",
    "# die ersten 5 Zeilen im Trainings- und Testdatensatz anzeigen\n",
    "print(\"\\nBeschreibung der Trainingsdaten:\")\n",
    "print(data_training.head(5))  \n",
    "\n",
    "print(\"\\nBeschreibung der Testdaten:\")\n",
    "print(data_testing.head(5))  "
   ]
  },
  {
   "cell_type": "code",
   "execution_count": 3,
   "id": "confidential-indian",
   "metadata": {},
   "outputs": [
    {
     "name": "stdout",
     "output_type": "stream",
     "text": [
      "\n",
      "Informationen der Trainingsdaten:\n",
      "\n",
      "<class 'pandas.core.frame.DataFrame'>\n",
      "Int64Index: 83624 entries, 1 to 83624\n",
      "Data columns (total 8 columns):\n",
      " #   Column                   Non-Null Count  Dtype  \n",
      "---  ------                   --------------  -----  \n",
      " 0   Request_Date             83624 non-null  object \n",
      " 1   Flight_Date              83624 non-null  object \n",
      " 2   Departure_hour           83624 non-null  int64  \n",
      " 3   flight_unique_id         83624 non-null  object \n",
      " 4   route_abb                83624 non-null  object \n",
      " 5   Price_In_Eur             83624 non-null  float64\n",
      " 6   min_future_price_in_Eur  83624 non-null  float64\n",
      " 7   buy                      83624 non-null  int64  \n",
      "dtypes: float64(2), int64(2), object(4)\n",
      "memory usage: 5.7+ MB\n",
      "\n",
      "Informationen der Testdatensatz:\n",
      "\n",
      "<class 'pandas.core.frame.DataFrame'>\n",
      "Int64Index: 5583 entries, 1 to 5583\n",
      "Data columns (total 6 columns):\n",
      " #   Column            Non-Null Count  Dtype  \n",
      "---  ------            --------------  -----  \n",
      " 0   Request_Date      5583 non-null   object \n",
      " 1   Flight_Date       5583 non-null   object \n",
      " 2   Departure_hour    5583 non-null   int64  \n",
      " 3   flight_unique_id  5583 non-null   object \n",
      " 4   route_abb         5583 non-null   object \n",
      " 5   Price_In_Eur      5583 non-null   float64\n",
      "dtypes: float64(1), int64(1), object(4)\n",
      "memory usage: 305.3+ KB\n"
     ]
    }
   ],
   "source": [
    "# Überprüfen der Informationen Trainings- und Testdatensatz\n",
    "print(\"\\nInformationen der Trainingsdaten:\\n\")\n",
    "data_training.info()\n",
    "print(\"\\nInformationen der Testdatensatz:\\n\")\n",
    "data_testing.info()"
   ]
  },
  {
   "cell_type": "code",
   "execution_count": 9,
   "id": "valid-emerald",
   "metadata": {},
   "outputs": [
    {
     "name": "stdout",
     "output_type": "stream",
     "text": [
      "Duplikate im Trainingsdatensatz: 0\n",
      "\n",
      "Duplikate im Testdatensatz: 0\n"
     ]
    }
   ],
   "source": [
    "# Überprüfen auf Duplikate im Trainings- und Testdatensatz\n",
    "duplicates_training = data_training[data_training.duplicated()]\n",
    "num_duplicates_training = len(duplicates_training)\n",
    "\n",
    "if num_duplicates_training == 0:\n",
    "    print(\"Duplikate im Trainingsdatensatz: 0\")\n",
    "else:\n",
    "    print(\"Duplikate im Trainingsdatensatz:\")\n",
    "    print(duplicates_training)\n",
    "\n",
    "duplicates_testing = data_testing[data_testing.duplicated()]\n",
    "num_duplicates_testing = len(duplicates_testing)\n",
    "\n",
    "if num_duplicates_testing == 0:\n",
    "    print(\"\\nDuplikate im Testdatensatz: 0\")\n",
    "else:\n",
    "    print(\"\\nDuplikate im Testdatensatz:\")\n",
    "    print(duplicates_training)"
   ]
  },
  {
   "cell_type": "markdown",
   "id": "retained-monday",
   "metadata": {},
   "source": [
    "Im Trainings- und Testdatensatz wurden keine Duplikate gefunden."
   ]
  },
  {
   "cell_type": "code",
   "execution_count": 5,
   "id": "pretty-award",
   "metadata": {
    "scrolled": true
   },
   "outputs": [
    {
     "data": {
      "text/html": [
       "<div>\n",
       "<style scoped>\n",
       "    .dataframe tbody tr th:only-of-type {\n",
       "        vertical-align: middle;\n",
       "    }\n",
       "\n",
       "    .dataframe tbody tr th {\n",
       "        vertical-align: top;\n",
       "    }\n",
       "\n",
       "    .dataframe thead th {\n",
       "        text-align: right;\n",
       "    }\n",
       "</style>\n",
       "<table border=\"1\" class=\"dataframe\">\n",
       "  <thead>\n",
       "    <tr style=\"text-align: right;\">\n",
       "      <th></th>\n",
       "      <th>Fehlende Daten im Trainingsdatensatz</th>\n",
       "      <th>Fehlende Daten im Testingsdatensatz</th>\n",
       "    </tr>\n",
       "  </thead>\n",
       "  <tbody>\n",
       "    <tr>\n",
       "      <th>Request_Date</th>\n",
       "      <td>0</td>\n",
       "      <td>0.0</td>\n",
       "    </tr>\n",
       "    <tr>\n",
       "      <th>Flight_Date</th>\n",
       "      <td>0</td>\n",
       "      <td>0.0</td>\n",
       "    </tr>\n",
       "    <tr>\n",
       "      <th>Departure_hour</th>\n",
       "      <td>0</td>\n",
       "      <td>0.0</td>\n",
       "    </tr>\n",
       "    <tr>\n",
       "      <th>flight_unique_id</th>\n",
       "      <td>0</td>\n",
       "      <td>0.0</td>\n",
       "    </tr>\n",
       "    <tr>\n",
       "      <th>route_abb</th>\n",
       "      <td>0</td>\n",
       "      <td>0.0</td>\n",
       "    </tr>\n",
       "    <tr>\n",
       "      <th>Price_In_Eur</th>\n",
       "      <td>0</td>\n",
       "      <td>0.0</td>\n",
       "    </tr>\n",
       "    <tr>\n",
       "      <th>min_future_price_in_Eur</th>\n",
       "      <td>0</td>\n",
       "      <td>NaN</td>\n",
       "    </tr>\n",
       "    <tr>\n",
       "      <th>buy</th>\n",
       "      <td>0</td>\n",
       "      <td>NaN</td>\n",
       "    </tr>\n",
       "  </tbody>\n",
       "</table>\n",
       "</div>"
      ],
      "text/plain": [
       "                         Fehlende Daten im Trainingsdatensatz  \\\n",
       "Request_Date                                                0   \n",
       "Flight_Date                                                 0   \n",
       "Departure_hour                                              0   \n",
       "flight_unique_id                                            0   \n",
       "route_abb                                                   0   \n",
       "Price_In_Eur                                                0   \n",
       "min_future_price_in_Eur                                     0   \n",
       "buy                                                         0   \n",
       "\n",
       "                         Fehlende Daten im Testingsdatensatz  \n",
       "Request_Date                                             0.0  \n",
       "Flight_Date                                              0.0  \n",
       "Departure_hour                                           0.0  \n",
       "flight_unique_id                                         0.0  \n",
       "route_abb                                                0.0  \n",
       "Price_In_Eur                                             0.0  \n",
       "min_future_price_in_Eur                                  NaN  \n",
       "buy                                                      NaN  "
      ]
     },
     "execution_count": 5,
     "metadata": {},
     "output_type": "execute_result"
    }
   ],
   "source": [
    "# Überprüfen auf fehlende Daten im Trainings- und Testdatensatz\n",
    "missing_df = pd.concat([data_training.isnull().sum(),data_testing.isnull().sum()],axis=1)\n",
    "missing_df.columns = ['Fehlende Daten im Trainingsdatensatz','Fehlende Daten im Testingsdatensatz']\n",
    "missing_df"
   ]
  },
  {
   "cell_type": "markdown",
   "id": "laden-student",
   "metadata": {},
   "source": [
    "Wie wir sehen können, sind im Trainings- und Testdatensatz keine fehlenden Daten vorhanden. Im Testdatensatz fehlen jedoch die Merkmale 'min_future_price_in_Eur' und 'buy', weshalb in der Ausgabe 'NaN' (Not a Number) angezeigt wird."
   ]
  },
  {
   "cell_type": "code",
   "execution_count": 6,
   "id": "dramatic-julian",
   "metadata": {},
   "outputs": [
    {
     "name": "stdout",
     "output_type": "stream",
     "text": [
      "\n",
      "Negative Werte in der Spalte 'Price_In_Eur' im Trainingsdatensatz: 0\n",
      "\n",
      "Negative Werte in der Spalte 'Price_In_Eur' im Testdatensatz: 0\n",
      "\n",
      "Negative Werte in der Spalte 'min_future_price_in_Eur' im Trainingsdatensatz: 0\n"
     ]
    }
   ],
   "source": [
    "# Überprüfen auf negative Werte in der Spalte \"Price_In_Eur\" im Trainings- und Testdatensatz\n",
    "negative_values_price_train = data_training[data_training['Price_In_Eur'] < 0]\n",
    "num_negative_price_training = len(negative_values_price_train)\n",
    "\n",
    "if num_negative_price_training == 0:\n",
    "    print(\"\\nNegative Werte in der Spalte 'Price_In_Eur' im Trainingsdatensatz: 0\")\n",
    "else:\n",
    "    print(\"Negative Werte in der Spalte 'Price_In_Eur' im Trainingdatemsatz:\")\n",
    "    print(negative_values_price_train)\n",
    "\n",
    "\n",
    "negative_values_price_test = data_testing[data_testing['Price_In_Eur'] < 0]\n",
    "num_negative_price_testing = len(negative_values_price_train)\n",
    "\n",
    "if num_negative_price_testing == 0:\n",
    "    print(\"\\nNegative Werte in der Spalte 'Price_In_Eur' im Testdatensatz: 0\")\n",
    "else:\n",
    "    print(\"Negative Werte in der Spalte 'Price_In_Eur' im Testdatensatz:\")\n",
    "    print(negative_values_price_test)\n",
    "\n",
    "# Überprüfen auf negative Werte in der Spalte \"min_future_price_in_Eur\" im Trainingsdatensatz\n",
    "negative_values_min_future_price_train = data_training[data_training['min_future_price_in_Eur'] < 0]\n",
    "num_negative_min_future_price_training = len(negative_values_price_train)\n",
    "\n",
    "if num_duplicates_training == 0:\n",
    "    print(\"\\nNegative Werte in der Spalte 'min_future_price_in_Eur' im Trainingsdatensatz: 0\")\n",
    "else:\n",
    "    print(\"\\nNegative Werte in der Spalte 'min_future_price_in_Eur' im Trainingsdatensatz:\")\n",
    "    print(negative_values_min_future_price_train)\n"
   ]
  },
  {
   "cell_type": "code",
   "execution_count": 7,
   "id": "great-replica",
   "metadata": {},
   "outputs": [
    {
     "name": "stdout",
     "output_type": "stream",
     "text": [
      "Deskriptive Statistiken für den Trainingsdatensatz:\n",
      "       Price_In_Eur  min_future_price_in_Eur\n",
      "count  83624.000000             83624.000000\n",
      "mean      71.965080                56.593014\n",
      "std       54.788483                46.126909\n",
      "min        8.990000                 8.990000\n",
      "25%       32.770000                22.270000\n",
      "50%       55.080000                41.890000\n",
      "75%       91.790000                73.430000\n",
      "max      372.960000               311.090000\n"
     ]
    }
   ],
   "source": [
    "# Deskriptive Statistiken für den Trainingsdatensatz anzeigen\n",
    "print(\"Deskriptive Statistiken für den Trainingsdatensatz:\")\n",
    "print(data_training[['Price_In_Eur', 'min_future_price_in_Eur']].describe())\n"
   ]
  },
  {
   "cell_type": "code",
   "execution_count": 8,
   "id": "attended-fleet",
   "metadata": {},
   "outputs": [
    {
     "ename": "KeyError",
     "evalue": "0",
     "output_type": "error",
     "traceback": [
      "\u001b[0;31m---------------------------------------------------------------------------\u001b[0m",
      "\u001b[0;31mKeyError\u001b[0m                                  Traceback (most recent call last)",
      "\u001b[0;32m/opt/conda/envs/tf1/lib/python3.7/site-packages/pandas/core/indexes/base.py\u001b[0m in \u001b[0;36mget_loc\u001b[0;34m(self, key, method, tolerance)\u001b[0m\n\u001b[1;32m   3079\u001b[0m             \u001b[0;32mtry\u001b[0m\u001b[0;34m:\u001b[0m\u001b[0;34m\u001b[0m\u001b[0;34m\u001b[0m\u001b[0m\n\u001b[0;32m-> 3080\u001b[0;31m                 \u001b[0;32mreturn\u001b[0m \u001b[0mself\u001b[0m\u001b[0;34m.\u001b[0m\u001b[0m_engine\u001b[0m\u001b[0;34m.\u001b[0m\u001b[0mget_loc\u001b[0m\u001b[0;34m(\u001b[0m\u001b[0mcasted_key\u001b[0m\u001b[0;34m)\u001b[0m\u001b[0;34m\u001b[0m\u001b[0;34m\u001b[0m\u001b[0m\n\u001b[0m\u001b[1;32m   3081\u001b[0m             \u001b[0;32mexcept\u001b[0m \u001b[0mKeyError\u001b[0m \u001b[0;32mas\u001b[0m \u001b[0merr\u001b[0m\u001b[0;34m:\u001b[0m\u001b[0;34m\u001b[0m\u001b[0;34m\u001b[0m\u001b[0m\n",
      "\u001b[0;32mpandas/_libs/index.pyx\u001b[0m in \u001b[0;36mpandas._libs.index.IndexEngine.get_loc\u001b[0;34m()\u001b[0m\n",
      "\u001b[0;32mpandas/_libs/index.pyx\u001b[0m in \u001b[0;36mpandas._libs.index.IndexEngine.get_loc\u001b[0;34m()\u001b[0m\n",
      "\u001b[0;32mpandas/_libs/hashtable_class_helper.pxi\u001b[0m in \u001b[0;36mpandas._libs.hashtable.Int64HashTable.get_item\u001b[0;34m()\u001b[0m\n",
      "\u001b[0;32mpandas/_libs/hashtable_class_helper.pxi\u001b[0m in \u001b[0;36mpandas._libs.hashtable.Int64HashTable.get_item\u001b[0;34m()\u001b[0m\n",
      "\u001b[0;31mKeyError\u001b[0m: 0",
      "\nThe above exception was the direct cause of the following exception:\n",
      "\u001b[0;31mKeyError\u001b[0m                                  Traceback (most recent call last)",
      "\u001b[0;32m<ipython-input-8-ef29143db6f3>\u001b[0m in \u001b[0;36m<module>\u001b[0;34m\u001b[0m\n\u001b[1;32m      1\u001b[0m \u001b[0;31m# Boxplot für das Feature \"Price_In_Eur\" in Trainingsdatensatz\u001b[0m\u001b[0;34m\u001b[0m\u001b[0;34m\u001b[0m\u001b[0;34m\u001b[0m\u001b[0m\n\u001b[1;32m      2\u001b[0m \u001b[0mplt\u001b[0m\u001b[0;34m.\u001b[0m\u001b[0mfigure\u001b[0m\u001b[0;34m(\u001b[0m\u001b[0mfigsize\u001b[0m\u001b[0;34m=\u001b[0m\u001b[0;34m(\u001b[0m\u001b[0;36m10\u001b[0m\u001b[0;34m,\u001b[0m \u001b[0;36m8\u001b[0m\u001b[0;34m)\u001b[0m\u001b[0;34m)\u001b[0m\u001b[0;34m\u001b[0m\u001b[0;34m\u001b[0m\u001b[0m\n\u001b[0;32m----> 3\u001b[0;31m \u001b[0msns\u001b[0m\u001b[0;34m.\u001b[0m\u001b[0mboxplot\u001b[0m\u001b[0;34m(\u001b[0m\u001b[0mdata\u001b[0m\u001b[0;34m=\u001b[0m\u001b[0mdata_training\u001b[0m\u001b[0;34m[\u001b[0m\u001b[0;34m'Price_In_Eur'\u001b[0m\u001b[0;34m]\u001b[0m\u001b[0;34m)\u001b[0m\u001b[0;34m\u001b[0m\u001b[0;34m\u001b[0m\u001b[0m\n\u001b[0m\u001b[1;32m      4\u001b[0m \u001b[0mplt\u001b[0m\u001b[0;34m.\u001b[0m\u001b[0mtitle\u001b[0m\u001b[0;34m(\u001b[0m\u001b[0;34m'Boxplot - Price_In_Eur'\u001b[0m\u001b[0;34m)\u001b[0m\u001b[0;34m\u001b[0m\u001b[0;34m\u001b[0m\u001b[0m\n\u001b[1;32m      5\u001b[0m \u001b[0mplt\u001b[0m\u001b[0;34m.\u001b[0m\u001b[0mxlabel\u001b[0m\u001b[0;34m(\u001b[0m\u001b[0;34m'Price_In_Eur'\u001b[0m\u001b[0;34m)\u001b[0m\u001b[0;34m\u001b[0m\u001b[0;34m\u001b[0m\u001b[0m\n",
      "\u001b[0;32m~/.local/lib/python3.7/site-packages/seaborn/categorical.py\u001b[0m in \u001b[0;36mboxplot\u001b[0;34m(data, x, y, hue, order, hue_order, orient, color, palette, saturation, width, dodge, fliersize, linewidth, whis, ax, **kwargs)\u001b[0m\n\u001b[1;32m   2231\u001b[0m     plotter = _BoxPlotter(x, y, hue, data, order, hue_order,\n\u001b[1;32m   2232\u001b[0m                           \u001b[0morient\u001b[0m\u001b[0;34m,\u001b[0m \u001b[0mcolor\u001b[0m\u001b[0;34m,\u001b[0m \u001b[0mpalette\u001b[0m\u001b[0;34m,\u001b[0m \u001b[0msaturation\u001b[0m\u001b[0;34m,\u001b[0m\u001b[0;34m\u001b[0m\u001b[0;34m\u001b[0m\u001b[0m\n\u001b[0;32m-> 2233\u001b[0;31m                           width, dodge, fliersize, linewidth)\n\u001b[0m\u001b[1;32m   2234\u001b[0m \u001b[0;34m\u001b[0m\u001b[0m\n\u001b[1;32m   2235\u001b[0m     \u001b[0;32mif\u001b[0m \u001b[0max\u001b[0m \u001b[0;32mis\u001b[0m \u001b[0;32mNone\u001b[0m\u001b[0;34m:\u001b[0m\u001b[0;34m\u001b[0m\u001b[0;34m\u001b[0m\u001b[0m\n",
      "\u001b[0;32m~/.local/lib/python3.7/site-packages/seaborn/categorical.py\u001b[0m in \u001b[0;36m__init__\u001b[0;34m(self, x, y, hue, data, order, hue_order, orient, color, palette, saturation, width, dodge, fliersize, linewidth)\u001b[0m\n\u001b[1;32m    783\u001b[0m                  width, dodge, fliersize, linewidth):\n\u001b[1;32m    784\u001b[0m \u001b[0;34m\u001b[0m\u001b[0m\n\u001b[0;32m--> 785\u001b[0;31m         \u001b[0mself\u001b[0m\u001b[0;34m.\u001b[0m\u001b[0mestablish_variables\u001b[0m\u001b[0;34m(\u001b[0m\u001b[0mx\u001b[0m\u001b[0;34m,\u001b[0m \u001b[0my\u001b[0m\u001b[0;34m,\u001b[0m \u001b[0mhue\u001b[0m\u001b[0;34m,\u001b[0m \u001b[0mdata\u001b[0m\u001b[0;34m,\u001b[0m \u001b[0morient\u001b[0m\u001b[0;34m,\u001b[0m \u001b[0morder\u001b[0m\u001b[0;34m,\u001b[0m \u001b[0mhue_order\u001b[0m\u001b[0;34m)\u001b[0m\u001b[0;34m\u001b[0m\u001b[0;34m\u001b[0m\u001b[0m\n\u001b[0m\u001b[1;32m    786\u001b[0m         \u001b[0mself\u001b[0m\u001b[0;34m.\u001b[0m\u001b[0mestablish_colors\u001b[0m\u001b[0;34m(\u001b[0m\u001b[0mcolor\u001b[0m\u001b[0;34m,\u001b[0m \u001b[0mpalette\u001b[0m\u001b[0;34m,\u001b[0m \u001b[0msaturation\u001b[0m\u001b[0;34m)\u001b[0m\u001b[0;34m\u001b[0m\u001b[0;34m\u001b[0m\u001b[0m\n\u001b[1;32m    787\u001b[0m \u001b[0;34m\u001b[0m\u001b[0m\n",
      "\u001b[0;32m~/.local/lib/python3.7/site-packages/seaborn/categorical.py\u001b[0m in \u001b[0;36mestablish_variables\u001b[0;34m(self, x, y, hue, data, orient, order, hue_order, units)\u001b[0m\n\u001b[1;32m    484\u001b[0m                 \u001b[0;32mif\u001b[0m \u001b[0mhasattr\u001b[0m\u001b[0;34m(\u001b[0m\u001b[0mdata\u001b[0m\u001b[0;34m,\u001b[0m \u001b[0;34m\"shape\"\u001b[0m\u001b[0;34m)\u001b[0m\u001b[0;34m:\u001b[0m\u001b[0;34m\u001b[0m\u001b[0;34m\u001b[0m\u001b[0m\n\u001b[1;32m    485\u001b[0m                     \u001b[0;32mif\u001b[0m \u001b[0mlen\u001b[0m\u001b[0;34m(\u001b[0m\u001b[0mdata\u001b[0m\u001b[0;34m.\u001b[0m\u001b[0mshape\u001b[0m\u001b[0;34m)\u001b[0m \u001b[0;34m==\u001b[0m \u001b[0;36m1\u001b[0m\u001b[0;34m:\u001b[0m\u001b[0;34m\u001b[0m\u001b[0;34m\u001b[0m\u001b[0m\n\u001b[0;32m--> 486\u001b[0;31m                         \u001b[0;32mif\u001b[0m \u001b[0mnp\u001b[0m\u001b[0;34m.\u001b[0m\u001b[0misscalar\u001b[0m\u001b[0;34m(\u001b[0m\u001b[0mdata\u001b[0m\u001b[0;34m[\u001b[0m\u001b[0;36m0\u001b[0m\u001b[0;34m]\u001b[0m\u001b[0;34m)\u001b[0m\u001b[0;34m:\u001b[0m\u001b[0;34m\u001b[0m\u001b[0;34m\u001b[0m\u001b[0m\n\u001b[0m\u001b[1;32m    487\u001b[0m                             \u001b[0mplot_data\u001b[0m \u001b[0;34m=\u001b[0m \u001b[0;34m[\u001b[0m\u001b[0mdata\u001b[0m\u001b[0;34m]\u001b[0m\u001b[0;34m\u001b[0m\u001b[0;34m\u001b[0m\u001b[0m\n\u001b[1;32m    488\u001b[0m                         \u001b[0;32melse\u001b[0m\u001b[0;34m:\u001b[0m\u001b[0;34m\u001b[0m\u001b[0;34m\u001b[0m\u001b[0m\n",
      "\u001b[0;32m/opt/conda/envs/tf1/lib/python3.7/site-packages/pandas/core/series.py\u001b[0m in \u001b[0;36m__getitem__\u001b[0;34m(self, key)\u001b[0m\n\u001b[1;32m    851\u001b[0m \u001b[0;34m\u001b[0m\u001b[0m\n\u001b[1;32m    852\u001b[0m         \u001b[0;32melif\u001b[0m \u001b[0mkey_is_scalar\u001b[0m\u001b[0;34m:\u001b[0m\u001b[0;34m\u001b[0m\u001b[0;34m\u001b[0m\u001b[0m\n\u001b[0;32m--> 853\u001b[0;31m             \u001b[0;32mreturn\u001b[0m \u001b[0mself\u001b[0m\u001b[0;34m.\u001b[0m\u001b[0m_get_value\u001b[0m\u001b[0;34m(\u001b[0m\u001b[0mkey\u001b[0m\u001b[0;34m)\u001b[0m\u001b[0;34m\u001b[0m\u001b[0;34m\u001b[0m\u001b[0m\n\u001b[0m\u001b[1;32m    854\u001b[0m \u001b[0;34m\u001b[0m\u001b[0m\n\u001b[1;32m    855\u001b[0m         \u001b[0;32mif\u001b[0m \u001b[0mis_hashable\u001b[0m\u001b[0;34m(\u001b[0m\u001b[0mkey\u001b[0m\u001b[0;34m)\u001b[0m\u001b[0;34m:\u001b[0m\u001b[0;34m\u001b[0m\u001b[0;34m\u001b[0m\u001b[0m\n",
      "\u001b[0;32m/opt/conda/envs/tf1/lib/python3.7/site-packages/pandas/core/series.py\u001b[0m in \u001b[0;36m_get_value\u001b[0;34m(self, label, takeable)\u001b[0m\n\u001b[1;32m    959\u001b[0m \u001b[0;34m\u001b[0m\u001b[0m\n\u001b[1;32m    960\u001b[0m         \u001b[0;31m# Similar to Index.get_value, but we do not fall back to positional\u001b[0m\u001b[0;34m\u001b[0m\u001b[0;34m\u001b[0m\u001b[0;34m\u001b[0m\u001b[0m\n\u001b[0;32m--> 961\u001b[0;31m         \u001b[0mloc\u001b[0m \u001b[0;34m=\u001b[0m \u001b[0mself\u001b[0m\u001b[0;34m.\u001b[0m\u001b[0mindex\u001b[0m\u001b[0;34m.\u001b[0m\u001b[0mget_loc\u001b[0m\u001b[0;34m(\u001b[0m\u001b[0mlabel\u001b[0m\u001b[0;34m)\u001b[0m\u001b[0;34m\u001b[0m\u001b[0;34m\u001b[0m\u001b[0m\n\u001b[0m\u001b[1;32m    962\u001b[0m         \u001b[0;32mreturn\u001b[0m \u001b[0mself\u001b[0m\u001b[0;34m.\u001b[0m\u001b[0mindex\u001b[0m\u001b[0;34m.\u001b[0m\u001b[0m_get_values_for_loc\u001b[0m\u001b[0;34m(\u001b[0m\u001b[0mself\u001b[0m\u001b[0;34m,\u001b[0m \u001b[0mloc\u001b[0m\u001b[0;34m,\u001b[0m \u001b[0mlabel\u001b[0m\u001b[0;34m)\u001b[0m\u001b[0;34m\u001b[0m\u001b[0;34m\u001b[0m\u001b[0m\n\u001b[1;32m    963\u001b[0m \u001b[0;34m\u001b[0m\u001b[0m\n",
      "\u001b[0;32m/opt/conda/envs/tf1/lib/python3.7/site-packages/pandas/core/indexes/base.py\u001b[0m in \u001b[0;36mget_loc\u001b[0;34m(self, key, method, tolerance)\u001b[0m\n\u001b[1;32m   3080\u001b[0m                 \u001b[0;32mreturn\u001b[0m \u001b[0mself\u001b[0m\u001b[0;34m.\u001b[0m\u001b[0m_engine\u001b[0m\u001b[0;34m.\u001b[0m\u001b[0mget_loc\u001b[0m\u001b[0;34m(\u001b[0m\u001b[0mcasted_key\u001b[0m\u001b[0;34m)\u001b[0m\u001b[0;34m\u001b[0m\u001b[0;34m\u001b[0m\u001b[0m\n\u001b[1;32m   3081\u001b[0m             \u001b[0;32mexcept\u001b[0m \u001b[0mKeyError\u001b[0m \u001b[0;32mas\u001b[0m \u001b[0merr\u001b[0m\u001b[0;34m:\u001b[0m\u001b[0;34m\u001b[0m\u001b[0;34m\u001b[0m\u001b[0m\n\u001b[0;32m-> 3082\u001b[0;31m                 \u001b[0;32mraise\u001b[0m \u001b[0mKeyError\u001b[0m\u001b[0;34m(\u001b[0m\u001b[0mkey\u001b[0m\u001b[0;34m)\u001b[0m \u001b[0;32mfrom\u001b[0m \u001b[0merr\u001b[0m\u001b[0;34m\u001b[0m\u001b[0;34m\u001b[0m\u001b[0m\n\u001b[0m\u001b[1;32m   3083\u001b[0m \u001b[0;34m\u001b[0m\u001b[0m\n\u001b[1;32m   3084\u001b[0m         \u001b[0;32mif\u001b[0m \u001b[0mtolerance\u001b[0m \u001b[0;32mis\u001b[0m \u001b[0;32mnot\u001b[0m \u001b[0;32mNone\u001b[0m\u001b[0;34m:\u001b[0m\u001b[0;34m\u001b[0m\u001b[0;34m\u001b[0m\u001b[0m\n",
      "\u001b[0;31mKeyError\u001b[0m: 0"
     ]
    },
    {
     "data": {
      "text/plain": [
       "<Figure size 720x576 with 0 Axes>"
      ]
     },
     "metadata": {},
     "output_type": "display_data"
    }
   ],
   "source": [
    "# Boxplot für das Feature \"Price_In_Eur\" in Trainingsdatensatz \n",
    "plt.figure(figsize=(10, 8))\n",
    "sns.boxplot(data=data_training['Price_In_Eur'])\n",
    "plt.title('Boxplot - Price_In_Eur')\n",
    "plt.xlabel('Price_In_Eur')\n",
    "plt.show()\n"
   ]
  },
  {
   "cell_type": "code",
   "execution_count": null,
   "id": "robust-warning",
   "metadata": {},
   "outputs": [],
   "source": [
    "# Boxplot für das Feature \"min_future_price_in_Eur\" in Trainingsdatensatz \n",
    "plt.figure(figsize=(10, 8))\n",
    "sns.boxplot(data=data_training['min_future_price_in_Eur'])\n",
    "plt.title('Boxplot - min_future_price_in_Eur')\n",
    "plt.xlabel('min_future_price_in_Eur')\n",
    "plt.show()"
   ]
  },
  {
   "cell_type": "code",
   "execution_count": null,
   "id": "opened-perception",
   "metadata": {},
   "outputs": [],
   "source": [
    "# Korrelationen zwischen Merkmalen im Trainingsdatensatz anzeigen\n",
    "print(\"\\nKorrelationen zwischen Merkmalen im Trainingsdatensatz:\")\n",
    "correlation_train = data_training.corr()\n",
    "print(correlation_train)\n",
    "\n",
    "# Korrelationsmatrix als Heatmap darstellen\n",
    "plt.figure(figsize=(10, 8))\n",
    "sns.heatmap(correlation_train, annot=True, cmap='crest')\n",
    "plt.title('Korrelationen zwischen Merkmalen im Trainingsdatensatz')\n",
    "plt.show()"
   ]
  },
  {
   "cell_type": "code",
   "execution_count": null,
   "id": "remarkable-nebraska",
   "metadata": {},
   "outputs": [],
   "source": [
    "# Verteilung der Defaulters in der Zielvariable in Traningdatensatz\n",
    "\n",
    "def default():\n",
    "    ncount = len(data_training)\n",
    "\n",
    "    ax2=ax.twinx()\n",
    "\n",
    "    ax2.yaxis.tick_left()\n",
    "    ax.yaxis.tick_right()\n",
    "\n",
    "    ax.yaxis.set_label_position('right')\n",
    "    ax2.yaxis.set_label_position('left')\n",
    "\n",
    "    ax2.set_ylabel('Prozent %')\n",
    "    plt.title(\"Verteilung der 'Kaufen' und 'Nicht Kaufen' in der Zielvariable \")\n",
    "\n",
    "    for i in ax.patches:\n",
    "        x=i.get_bbox().get_points()[:,0]\n",
    "        y=i.get_bbox().get_points()[1,1]\n",
    "        ax.annotate('{:.1f}%'.format(100.*y/ncount), (x.mean(), y), \n",
    "                ha='center', va='bottom')\n",
    "\n",
    "    ax2.set_ylim(0,100)\n",
    "    ax2.grid(None)\n",
    "\n",
    "ax = sns.countplot(x=data_training.buy, palette=\"Pastel1\")\n",
    "sns.set(font_scale=1.5)\n",
    "ax.set_ylim(top=100000)\n",
    "ax.set_xlabel(' ')\n",
    "ax.set_ylabel(' ')\n",
    "fig = plt.gcf()\n",
    "fig.set_size_inches(10,5)\n",
    "ax.set_ylim(top=100000)\n",
    "\n",
    "default()\n",
    "\n",
    "plt.show()\n"
   ]
  },
  {
   "cell_type": "code",
   "execution_count": null,
   "id": "abandoned-demographic",
   "metadata": {},
   "outputs": [],
   "source": [
    "# Deskriptive Statistiken für den Testdatensatz anzeigen\n",
    "print(\"\\nDeskriptive Statistiken für den Testdatensatz:\")\n",
    "print(data_testing['Price_In_Eur'].describe())"
   ]
  },
  {
   "cell_type": "code",
   "execution_count": null,
   "id": "recognized-musician",
   "metadata": {},
   "outputs": [],
   "source": [
    "# Boxplot für das Feature \"Price_In_Eur\" in Testdatensatz \n",
    "plt.figure(figsize=(10, 8))\n",
    "sns.boxplot(data=data_testing['Price_In_Eur'])\n",
    "plt.title('Boxplot - Price_In_Eur')\n",
    "plt.xlabel('Price_In_Eur')\n",
    "plt.show()"
   ]
  },
  {
   "cell_type": "code",
   "execution_count": null,
   "id": "promotional-permit",
   "metadata": {},
   "outputs": [],
   "source": [
    "\n",
    "# Korrelationen zwischen Merkmalen im Testdatensatz anzeigen\n",
    "print(\"\\nKorrelationen zwischen Merkmalen im Testdatensatz:\")\n",
    "correlation_test = data_testing.corr()\n",
    "print(correlation_test)\n",
    "\n",
    "# Korrelationsmatrix als Heatmap darstellen\n",
    "plt.figure(figsize=(10, 8))\n",
    "sns.heatmap(correlation_test, annot=True, cmap='crest')\n",
    "plt.title('Korrelationen zwischen Merkmalen im Testdatensatz')\n",
    "plt.show()"
   ]
  },
  {
   "cell_type": "markdown",
   "id": "lesbian-programming",
   "metadata": {},
   "source": [
    "\n",
    "Für das Projekt \"Kaufen oder Warten\" sind folgende Merkmale (Features) relevant:\n",
    "\n",
    "- Request_Date: Datum/Zeit der Preisanfrage\n",
    "- Flight_Date: Datum des Flugs\n",
    "- Departure_hour: Gerundete Abflugszeit\n",
    "- flight_unique_id: Eindeutige ID für den Flug\n",
    "- route_abb: Abkürzung der Route (London Stansted - Berlin Schönefeld oder London Stansted - Frankfurt)\n",
    "- Price_In_Eur: Flugpreis\n",
    "- min_future_price_in_Eur: Minimaler Flugpreis für die flight_unique_id über alle zukünftigen Request_Dates (kann als zusätzliches Merkmal betrachtet werden)\n",
    "\n",
    "Basierend auf diesen vorhandenen Merkmalen können weitere abgeleitete Merkmale definiert werden:\n",
    "\n",
    "- Time_Until_Flight: Zeitdauer bis zum Flug in Tagen (berechnet als Flight_Date - Request_Date)\n",
    "- Day_of_Week: Wochentag des Flugs (Montag bis Sonntag)\n",
    "- Month: Monat des Flugs (Januar bis Dezember)\n",
    "- Year: Jahr des Flugs\n",
    "\n",
    "\n",
    "Zusätzlich zu den vorhandenen Merkmalen können externe Informationen berücksichtigt werden, um weitere relevante Merkmale abzuleiten:\n",
    "\n",
    "- Feiertage: Ein binäres Merkmal, das angibt, ob der Flug an einem Feiertag stattfindet.\n",
    "- Saison: Ein Merkmal, das die Saison des Jahres (Frühling, Sommer, Herbst, Winter) basierend auf dem Flugdatum angibt.\n",
    "- Wetterbedingungen: Informationen über das Wetter an den Abflug- und Ankunftsorten können als Merkmale einbezogen werden, um potenzielle Auswirkungen auf die Flugpreise zu berücksichtigen.\n",
    "\n",
    "Diese zusätzlichen Merkmale könnten helfen, Muster und Zusammenhänge zwischen den Flugpreisen und verschiedenen Faktoren wie Datum, Uhrzeit, Strecke und externen Einflüssen zu identifizieren.\n"
   ]
  }
 ],
 "metadata": {
  "kernelspec": {
   "display_name": "Python 3",
   "language": "python",
   "name": "python3"
  },
  "language_info": {
   "codemirror_mode": {
    "name": "ipython",
    "version": 3
   },
   "file_extension": ".py",
   "mimetype": "text/x-python",
   "name": "python",
   "nbconvert_exporter": "python",
   "pygments_lexer": "ipython3",
   "version": "3.7.10"
  }
 },
 "nbformat": 4,
 "nbformat_minor": 5
}
